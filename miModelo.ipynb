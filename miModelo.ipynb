{
 "cells": [
  {
   "cell_type": "markdown",
   "id": "953f2768",
   "metadata": {},
   "source": [
    "### Librerias necesarias "
   ]
  },
  {
   "cell_type": "code",
   "execution_count": null,
   "id": "70ea0847",
   "metadata": {},
   "outputs": [
    {
     "ename": "",
     "evalue": "",
     "output_type": "error",
     "traceback": [
      "\u001b[1;31mRunning cells with 'c:\\Users\\Sebastian Gonzalez\\AppData\\Local\\Microsoft\\WindowsApps\\python3.11.exe' requires the ipykernel package.\n",
      "\u001b[1;31mRun the following command to install 'ipykernel' into the Python environment. \n",
      "\u001b[1;31mCommand: '\"c:/Users/Sebastian Gonzalez/AppData/Local/Microsoft/WindowsApps/python3.11.exe\" -m pip install ipykernel -U --user --force-reinstall'"
     ]
    }
   ],
   "source": [
    "from keras.applications.vgg19 import decode_predictions\n",
    "from keras.applications.vgg19 import preprocess_input\n",
    "from tensorflow.keras.preprocessing.image import ImageDataGenerator,load_img,img_to_array\n",
    "from keras.preprocessing import image\n",
    "import matplotlib.pyplot as plt\n",
    "from PIL import Image\n",
    "import seaborn as sns\n",
    "import pandas as pd\n",
    "import numpy as np\n",
    "import os\n",
    "import cv2\n",
    "import keras\n",
    "import tensorflow as tf\n",
    "from sklearn.model_selection import GridSearchCV\n",
    "from sklearn import svm"
   ]
  },
  {
   "cell_type": "markdown",
   "id": "26f780ac",
   "metadata": {},
   "source": [
    "### Lectura y preprocesamiento de imagenes para el entrenamiento del modelo "
   ]
  },
  {
   "cell_type": "code",
   "execution_count": null,
   "id": "30c47d31",
   "metadata": {},
   "outputs": [
    {
     "ename": "",
     "evalue": "",
     "output_type": "error",
     "traceback": [
      "\u001b[1;31mRunning cells with 'c:\\Users\\Sebastian Gonzalez\\AppData\\Local\\Microsoft\\WindowsApps\\python3.11.exe' requires the ipykernel package.\n",
      "\u001b[1;31mRun the following command to install 'ipykernel' into the Python environment. \n",
      "\u001b[1;31mCommand: '\"c:/Users/Sebastian Gonzalez/AppData/Local/Microsoft/WindowsApps/python3.11.exe\" -m pip install ipykernel -U --user --force-reinstall'"
     ]
    }
   ],
   "source": [
    "images1 = \"./Original/Benign\"\n",
    "images2 = \"./Original/Early\"\n",
    "images3 = \"./Original/Pre\"\n",
    "images4 = \"./Original/Pro\"\n",
    "\n",
    "#Tamaño de la imagen requerido para este modelo\n",
    "images_size = 224"
   ]
  },
  {
   "cell_type": "markdown",
   "id": "f23427df",
   "metadata": {},
   "source": [
    "### Diccionario de clasificacion de imagenes por tipo "
   ]
  },
  {
   "cell_type": "code",
   "execution_count": null,
   "id": "3a329c2d",
   "metadata": {},
   "outputs": [
    {
     "ename": "",
     "evalue": "",
     "output_type": "error",
     "traceback": [
      "\u001b[1;31mRunning cells with 'c:\\Users\\Sebastian Gonzalez\\AppData\\Local\\Microsoft\\WindowsApps\\python3.11.exe' requires the ipykernel package.\n",
      "\u001b[1;31mRun the following command to install 'ipykernel' into the Python environment. \n",
      "\u001b[1;31mCommand: '\"c:/Users/Sebastian Gonzalez/AppData/Local/Microsoft/WindowsApps/python3.11.exe\" -m pip install ipykernel -U --user --force-reinstall'"
     ]
    }
   ],
   "source": [
    "codigo = {\"Benign\": 0, \"Early\": 1, \"Pre\": 2, \"Pro\": 3}\n",
    "def getcodigo(n):\n",
    "    for x, y in code.items():\n",
    "        if n == y:\n",
    "            return x"
   ]
  },
  {
   "cell_type": "code",
   "execution_count": null,
   "id": "6b39c1e4",
   "metadata": {},
   "outputs": [
    {
     "ename": "",
     "evalue": "",
     "output_type": "error",
     "traceback": [
      "\u001b[1;31mRunning cells with 'c:\\Users\\Sebastian Gonzalez\\AppData\\Local\\Microsoft\\WindowsApps\\python3.11.exe' requires the ipykernel package.\n",
      "\u001b[1;31mRun the following command to install 'ipykernel' into the Python environment. \n",
      "\u001b[1;31mCommand: '\"c:/Users/Sebastian Gonzalez/AppData/Local/Microsoft/WindowsApps/python3.11.exe\" -m pip install ipykernel -U --user --force-reinstall'"
     ]
    }
   ],
   "source": [
    "x_train = []\n",
    "y_train = []\n",
    "files_dir = os.listdir(images1)\n",
    "for file_dir in files_dir:\n",
    "    image = images1 + \"/\" + file_dir\n",
    "    image_readed = cv2.imread(image)\n",
    "    image_resized = cv2.resize(image_readed, (images_size, images_size))\n",
    "    x_train.append(list(image_resized))\n",
    "    y_train.append(codigo[\"Benign\"])\n",
    "print(\"Imagenes procesadas correctamente...\")"
   ]
  },
  {
   "cell_type": "code",
   "execution_count": null,
   "id": "3a600ba1",
   "metadata": {},
   "outputs": [
    {
     "ename": "",
     "evalue": "",
     "output_type": "error",
     "traceback": [
      "\u001b[1;31mRunning cells with 'c:\\Users\\Sebastian Gonzalez\\AppData\\Local\\Microsoft\\WindowsApps\\python3.11.exe' requires the ipykernel package.\n",
      "\u001b[1;31mRun the following command to install 'ipykernel' into the Python environment. \n",
      "\u001b[1;31mCommand: '\"c:/Users/Sebastian Gonzalez/AppData/Local/Microsoft/WindowsApps/python3.11.exe\" -m pip install ipykernel -U --user --force-reinstall'"
     ]
    }
   ],
   "source": [
    "files_dir = os.listdir(images2)\n",
    "for file_dir in files_dir:\n",
    "    image = images2 + \"/\" + file_dir\n",
    "    image_readed = cv2.imread(image)\n",
    "    image_resized = cv2.resize(image_readed, (images_size, images_size))\n",
    "    x_train.append(list(image_resized))\n",
    "    y_train.append(codigo[\"Early\"])\n",
    "print(\"Imagenes procesadas correctamente...\")"
   ]
  },
  {
   "cell_type": "code",
   "execution_count": null,
   "id": "3b55aa87",
   "metadata": {},
   "outputs": [
    {
     "ename": "",
     "evalue": "",
     "output_type": "error",
     "traceback": [
      "\u001b[1;31mRunning cells with 'c:\\Users\\Sebastian Gonzalez\\AppData\\Local\\Microsoft\\WindowsApps\\python3.11.exe' requires the ipykernel package.\n",
      "\u001b[1;31mRun the following command to install 'ipykernel' into the Python environment. \n",
      "\u001b[1;31mCommand: '\"c:/Users/Sebastian Gonzalez/AppData/Local/Microsoft/WindowsApps/python3.11.exe\" -m pip install ipykernel -U --user --force-reinstall'"
     ]
    }
   ],
   "source": [
    "files_dir = os.listdir(images3)\n",
    "for file_dir in files_dir:\n",
    "    image = images3 + \"/\" + file_dir\n",
    "    image_readed = cv2.imread(image)\n",
    "    image_resized = cv2.resize(image_readed, (images_size, images_size))\n",
    "    x_train.append(list(image_resized))\n",
    "    y_train.append(codigo[\"Pre\"])\n",
    "   \n",
    "print(\"Imagenes procesadas correctamente...\")"
   ]
  },
  {
   "cell_type": "code",
   "execution_count": null,
   "id": "cf142e97",
   "metadata": {},
   "outputs": [
    {
     "ename": "",
     "evalue": "",
     "output_type": "error",
     "traceback": [
      "\u001b[1;31mRunning cells with 'c:\\Users\\Sebastian Gonzalez\\AppData\\Local\\Microsoft\\WindowsApps\\python3.11.exe' requires the ipykernel package.\n",
      "\u001b[1;31mRun the following command to install 'ipykernel' into the Python environment. \n",
      "\u001b[1;31mCommand: '\"c:/Users/Sebastian Gonzalez/AppData/Local/Microsoft/WindowsApps/python3.11.exe\" -m pip install ipykernel -U --user --force-reinstall'"
     ]
    }
   ],
   "source": [
    "files_dir = os.listdir(images4)\n",
    "for file_dir in files_dir:\n",
    "    image = images4 + \"/\" + file_dir\n",
    "    image_readed = cv2.imread(image)\n",
    "    image_resized = cv2.resize(image_readed, (images_size, images_size))\n",
    "    x_train.append(list(image_resized))\n",
    "    y_train.append(codigo[\"Pro\"])\n",
    "    \n",
    "print(\"Imagenes procesadas correctamente...\")"
   ]
  },
  {
   "cell_type": "code",
   "execution_count": null,
   "id": "916ec3c1",
   "metadata": {},
   "outputs": [
    {
     "ename": "",
     "evalue": "",
     "output_type": "error",
     "traceback": [
      "\u001b[1;31mRunning cells with 'c:\\Users\\Sebastian Gonzalez\\AppData\\Local\\Microsoft\\WindowsApps\\python3.11.exe' requires the ipykernel package.\n",
      "\u001b[1;31mRun the following command to install 'ipykernel' into the Python environment. \n",
      "\u001b[1;31mCommand: '\"c:/Users/Sebastian Gonzalez/AppData/Local/Microsoft/WindowsApps/python3.11.exe\" -m pip install ipykernel -U --user --force-reinstall'"
     ]
    }
   ],
   "source": [
    "len(x_train)"
   ]
  },
  {
   "cell_type": "code",
   "execution_count": null,
   "id": "865f67cc",
   "metadata": {},
   "outputs": [
    {
     "ename": "",
     "evalue": "",
     "output_type": "error",
     "traceback": [
      "\u001b[1;31mRunning cells with 'c:\\Users\\Sebastian Gonzalez\\AppData\\Local\\Microsoft\\WindowsApps\\python3.11.exe' requires the ipykernel package.\n",
      "\u001b[1;31mRun the following command to install 'ipykernel' into the Python environment. \n",
      "\u001b[1;31mCommand: '\"c:/Users/Sebastian Gonzalez/AppData/Local/Microsoft/WindowsApps/python3.11.exe\" -m pip install ipykernel -U --user --force-reinstall'"
     ]
    }
   ],
   "source": [
    "plt.figure(figsize=(20,20))\n",
    "for n , i in enumerate(list(np.random.randint(0,len(x_train),36))) :\n",
    "    plt.subplot(6,6,n+1)\n",
    "    plt.imshow(x_train[i])\n",
    "    plt.axis('off')\n",
    "    plt.title(y_train[i])"
   ]
  },
  {
   "cell_type": "code",
   "execution_count": null,
   "id": "b65a38ab",
   "metadata": {},
   "outputs": [
    {
     "ename": "",
     "evalue": "",
     "output_type": "error",
     "traceback": [
      "\u001b[1;31mRunning cells with 'c:\\Users\\Sebastian Gonzalez\\AppData\\Local\\Microsoft\\WindowsApps\\python3.11.exe' requires the ipykernel package.\n",
      "\u001b[1;31mRun the following command to install 'ipykernel' into the Python environment. \n",
      "\u001b[1;31mCommand: '\"c:/Users/Sebastian Gonzalez/AppData/Local/Microsoft/WindowsApps/python3.11.exe\" -m pip install ipykernel -U --user --force-reinstall'"
     ]
    }
   ],
   "source": [
    "segmented1 = \"./Segmented/Benign\"\n",
    "segmented2 = \"./Segmented/Early\"\n",
    "segmented3 = \"./Segmented/Pre\"\n",
    "segmented4 = \"./Segmented/Pro\""
   ]
  },
  {
   "cell_type": "code",
   "execution_count": null,
   "id": "7c03761d",
   "metadata": {},
   "outputs": [
    {
     "ename": "",
     "evalue": "",
     "output_type": "error",
     "traceback": [
      "\u001b[1;31mRunning cells with 'c:\\Users\\Sebastian Gonzalez\\AppData\\Local\\Microsoft\\WindowsApps\\python3.11.exe' requires the ipykernel package.\n",
      "\u001b[1;31mRun the following command to install 'ipykernel' into the Python environment. \n",
      "\u001b[1;31mCommand: '\"c:/Users/Sebastian Gonzalez/AppData/Local/Microsoft/WindowsApps/python3.11.exe\" -m pip install ipykernel -U --user --force-reinstall'"
     ]
    }
   ],
   "source": [
    "x_test = []\n",
    "y_test = []\n",
    "files_dir = os.listdir(segmented1)\n",
    "for file_dir in files_dir:\n",
    "    image = segmented1 + \"/\" + file_dir\n",
    "    image_readed = cv2.imread(image)\n",
    "    image_resized = cv2.resize(image_readed, (images_size, images_size))\n",
    "    x_test.append(list(image_resized))\n",
    "    y_test.append(codigo[\"Benign\"])\n",
    "print(\"Imagenes procesadas correctamente...\")"
   ]
  },
  {
   "cell_type": "code",
   "execution_count": null,
   "id": "16eb9345",
   "metadata": {},
   "outputs": [
    {
     "ename": "",
     "evalue": "",
     "output_type": "error",
     "traceback": [
      "\u001b[1;31mRunning cells with 'c:\\Users\\Sebastian Gonzalez\\AppData\\Local\\Microsoft\\WindowsApps\\python3.11.exe' requires the ipykernel package.\n",
      "\u001b[1;31mRun the following command to install 'ipykernel' into the Python environment. \n",
      "\u001b[1;31mCommand: '\"c:/Users/Sebastian Gonzalez/AppData/Local/Microsoft/WindowsApps/python3.11.exe\" -m pip install ipykernel -U --user --force-reinstall'"
     ]
    }
   ],
   "source": [
    "files_dir = os.listdir(segmented2)\n",
    "for file_dir in files_dir:\n",
    "    image = segmented2 + \"/\" + file_dir\n",
    "    image_readed = cv2.imread(image)\n",
    "    image_resized = cv2.resize(image_readed, (images_size, images_size))\n",
    "    x_test.append(list(image_resized))\n",
    "    y_test.append(codigo[\"Early\"])\n",
    "print(\"Imagenes procesadas correctamente...\")"
   ]
  },
  {
   "cell_type": "code",
   "execution_count": null,
   "id": "aa0d54f2",
   "metadata": {},
   "outputs": [
    {
     "ename": "",
     "evalue": "",
     "output_type": "error",
     "traceback": [
      "\u001b[1;31mRunning cells with 'c:\\Users\\Sebastian Gonzalez\\AppData\\Local\\Microsoft\\WindowsApps\\python3.11.exe' requires the ipykernel package.\n",
      "\u001b[1;31mRun the following command to install 'ipykernel' into the Python environment. \n",
      "\u001b[1;31mCommand: '\"c:/Users/Sebastian Gonzalez/AppData/Local/Microsoft/WindowsApps/python3.11.exe\" -m pip install ipykernel -U --user --force-reinstall'"
     ]
    }
   ],
   "source": [
    "files_dir = os.listdir(segmented3)\n",
    "for file_dir in files_dir:\n",
    "    image = segmented3 + \"/\" + file_dir\n",
    "    image_readed = cv2.imread(image)\n",
    "    image_resized = cv2.resize(image_readed, (images_size, images_size))\n",
    "    x_test.append(list(image_resized))\n",
    "    y_test.append(codigo[\"Pre\"])\n",
    "print(\"Imagenes procesadas correctamente...\")"
   ]
  },
  {
   "cell_type": "code",
   "execution_count": null,
   "id": "400cef50",
   "metadata": {},
   "outputs": [
    {
     "ename": "",
     "evalue": "",
     "output_type": "error",
     "traceback": [
      "\u001b[1;31mRunning cells with 'c:\\Users\\Sebastian Gonzalez\\AppData\\Local\\Microsoft\\WindowsApps\\python3.11.exe' requires the ipykernel package.\n",
      "\u001b[1;31mRun the following command to install 'ipykernel' into the Python environment. \n",
      "\u001b[1;31mCommand: '\"c:/Users/Sebastian Gonzalez/AppData/Local/Microsoft/WindowsApps/python3.11.exe\" -m pip install ipykernel -U --user --force-reinstall'"
     ]
    }
   ],
   "source": [
    "files_dir = os.listdir(segmented4)\n",
    "for file_dir in files_dir:\n",
    "    image = segmented4 + \"/\" + file_dir\n",
    "    image_readed = cv2.imread(image)\n",
    "    image_resized = cv2.resize(image_readed, (images_size, images_size))\n",
    "    x_test.append(list(image_resized))\n",
    "    y_test.append(codigo[\"Pro\"])\n",
    "print(\"Imagenes procesadas correctamente...\")"
   ]
  },
  {
   "cell_type": "code",
   "execution_count": null,
   "id": "dcfd91f4",
   "metadata": {},
   "outputs": [
    {
     "ename": "",
     "evalue": "",
     "output_type": "error",
     "traceback": [
      "\u001b[1;31mRunning cells with 'c:\\Users\\Sebastian Gonzalez\\AppData\\Local\\Microsoft\\WindowsApps\\python3.11.exe' requires the ipykernel package.\n",
      "\u001b[1;31mRun the following command to install 'ipykernel' into the Python environment. \n",
      "\u001b[1;31mCommand: '\"c:/Users/Sebastian Gonzalez/AppData/Local/Microsoft/WindowsApps/python3.11.exe\" -m pip install ipykernel -U --user --force-reinstall'"
     ]
    }
   ],
   "source": [
    "len(x_test)"
   ]
  },
  {
   "cell_type": "code",
   "execution_count": null,
   "id": "36908bec",
   "metadata": {},
   "outputs": [
    {
     "ename": "",
     "evalue": "",
     "output_type": "error",
     "traceback": [
      "\u001b[1;31mRunning cells with 'c:\\Users\\Sebastian Gonzalez\\AppData\\Local\\Microsoft\\WindowsApps\\python3.11.exe' requires the ipykernel package.\n",
      "\u001b[1;31mRun the following command to install 'ipykernel' into the Python environment. \n",
      "\u001b[1;31mCommand: '\"c:/Users/Sebastian Gonzalez/AppData/Local/Microsoft/WindowsApps/python3.11.exe\" -m pip install ipykernel -U --user --force-reinstall'"
     ]
    }
   ],
   "source": [
    "plt.figure(figsize=(20,20))\n",
    "for n , i in enumerate(list(np.random.randint(0,len(x_test),36))) :\n",
    "    plt.subplot(6,6,n+1)\n",
    "    plt.imshow(x_test[i])\n",
    "    plt.axis('off')\n",
    "    plt.title(y_test[i])"
   ]
  },
  {
   "cell_type": "code",
   "execution_count": null,
   "id": "15dc70d4",
   "metadata": {},
   "outputs": [
    {
     "ename": "",
     "evalue": "",
     "output_type": "error",
     "traceback": [
      "\u001b[1;31mRunning cells with 'c:\\Users\\Sebastian Gonzalez\\AppData\\Local\\Microsoft\\WindowsApps\\python3.11.exe' requires the ipykernel package.\n",
      "\u001b[1;31mRun the following command to install 'ipykernel' into the Python environment. \n",
      "\u001b[1;31mCommand: '\"c:/Users/Sebastian Gonzalez/AppData/Local/Microsoft/WindowsApps/python3.11.exe\" -m pip install ipykernel -U --user --force-reinstall'"
     ]
    }
   ],
   "source": [
    "dataset = []\n",
    "for i, j in zip(x_train, y_train):\n",
    "    dataset.append([i,j])"
   ]
  },
  {
   "cell_type": "code",
   "execution_count": null,
   "id": "7459bfd3",
   "metadata": {},
   "outputs": [
    {
     "ename": "",
     "evalue": "",
     "output_type": "error",
     "traceback": [
      "\u001b[1;31mRunning cells with 'c:\\Users\\Sebastian Gonzalez\\AppData\\Local\\Microsoft\\WindowsApps\\python3.11.exe' requires the ipykernel package.\n",
      "\u001b[1;31mRun the following command to install 'ipykernel' into the Python environment. \n",
      "\u001b[1;31mCommand: '\"c:/Users/Sebastian Gonzalez/AppData/Local/Microsoft/WindowsApps/python3.11.exe\" -m pip install ipykernel -U --user --force-reinstall'"
     ]
    }
   ],
   "source": [
    "len(dataset)"
   ]
  },
  {
   "cell_type": "markdown",
   "id": "4952007f",
   "metadata": {},
   "source": [
    "### Aqui es donde se pieza a preparar los datos para el entrenamiento del modelo "
   ]
  },
  {
   "cell_type": "code",
   "execution_count": null,
   "id": "1613b4f7",
   "metadata": {},
   "outputs": [
    {
     "ename": "",
     "evalue": "",
     "output_type": "error",
     "traceback": [
      "\u001b[1;31mRunning cells with 'c:\\Users\\Sebastian Gonzalez\\AppData\\Local\\Microsoft\\WindowsApps\\python3.11.exe' requires the ipykernel package.\n",
      "\u001b[1;31mRun the following command to install 'ipykernel' into the Python environment. \n",
      "\u001b[1;31mCommand: '\"c:/Users/Sebastian Gonzalez/AppData/Local/Microsoft/WindowsApps/python3.11.exe\" -m pip install ipykernel -U --user --force-reinstall'"
     ]
    }
   ],
   "source": [
    "x = []\n",
    "y = []\n",
    "for img, titulo in dataset:\n",
    "    x.append(img)\n",
    "    y.append(titulo)"
   ]
  },
  {
   "cell_type": "code",
   "execution_count": null,
   "id": "a62ed64b",
   "metadata": {},
   "outputs": [
    {
     "ename": "",
     "evalue": "",
     "output_type": "error",
     "traceback": [
      "\u001b[1;31mRunning cells with 'c:\\Users\\Sebastian Gonzalez\\AppData\\Local\\Microsoft\\WindowsApps\\python3.11.exe' requires the ipykernel package.\n",
      "\u001b[1;31mRun the following command to install 'ipykernel' into the Python environment. \n",
      "\u001b[1;31mCommand: '\"c:/Users/Sebastian Gonzalez/AppData/Local/Microsoft/WindowsApps/python3.11.exe\" -m pip install ipykernel -U --user --force-reinstall'"
     ]
    }
   ],
   "source": [
    "#Convertimos a array la lista de valores\n",
    "x = np.array(x)\n",
    "y = np.array(y)"
   ]
  },
  {
   "cell_type": "code",
   "execution_count": null,
   "id": "aa501727",
   "metadata": {},
   "outputs": [
    {
     "ename": "",
     "evalue": "",
     "output_type": "error",
     "traceback": [
      "\u001b[1;31mRunning cells with 'c:\\Users\\Sebastian Gonzalez\\AppData\\Local\\Microsoft\\WindowsApps\\python3.11.exe' requires the ipykernel package.\n",
      "\u001b[1;31mRun the following command to install 'ipykernel' into the Python environment. \n",
      "\u001b[1;31mCommand: '\"c:/Users/Sebastian Gonzalez/AppData/Local/Microsoft/WindowsApps/python3.11.exe\" -m pip install ipykernel -U --user --force-reinstall'"
     ]
    }
   ],
   "source": [
    "from sklearn.model_selection import train_test_split\n",
    "xtrain, xtest, ytrain, ytest = train_test_split(x, y, train_size = 0.8, shuffle = True)\n",
    "print(xtest.shape)\n",
    "print(xtrain.shape)"
   ]
  },
  {
   "cell_type": "code",
   "execution_count": null,
   "id": "38ac871c",
   "metadata": {},
   "outputs": [
    {
     "ename": "",
     "evalue": "",
     "output_type": "error",
     "traceback": [
      "\u001b[1;31mRunning cells with 'c:\\Users\\Sebastian Gonzalez\\AppData\\Local\\Microsoft\\WindowsApps\\python3.11.exe' requires the ipykernel package.\n",
      "\u001b[1;31mRun the following command to install 'ipykernel' into the Python environment. \n",
      "\u001b[1;31mCommand: '\"c:/Users/Sebastian Gonzalez/AppData/Local/Microsoft/WindowsApps/python3.11.exe\" -m pip install ipykernel -U --user --force-reinstall'"
     ]
    }
   ],
   "source": [
    "modelo_base = tf.keras.applications.vgg19.VGG19()\n",
    "modelo = tf.keras.models.Sequential()\n",
    "\n",
    "for layer in modelo_base.layers[:-1]:\n",
    "    modelo.add(layer)\n",
    "\n",
    "for layer in modelo.layers:\n",
    "    layer.trainable = False\n",
    "    \n",
    "modelo.add(tf.keras.layers.Dense(4, activation = tf.nn.softmax))"
   ]
  },
  {
   "cell_type": "code",
   "execution_count": null,
   "id": "7d3284b7",
   "metadata": {},
   "outputs": [
    {
     "ename": "",
     "evalue": "",
     "output_type": "error",
     "traceback": [
      "\u001b[1;31mRunning cells with 'c:\\Users\\Sebastian Gonzalez\\AppData\\Local\\Microsoft\\WindowsApps\\python3.11.exe' requires the ipykernel package.\n",
      "\u001b[1;31mRun the following command to install 'ipykernel' into the Python environment. \n",
      "\u001b[1;31mCommand: '\"c:/Users/Sebastian Gonzalez/AppData/Local/Microsoft/WindowsApps/python3.11.exe\" -m pip install ipykernel -U --user --force-reinstall'"
     ]
    }
   ],
   "source": [
    "modelo.summary()"
   ]
  },
  {
   "cell_type": "markdown",
   "id": "99320c50",
   "metadata": {},
   "source": [
    "### Entrenamiento del modelo "
   ]
  },
  {
   "cell_type": "code",
   "execution_count": null,
   "id": "76a8d1c3",
   "metadata": {},
   "outputs": [
    {
     "ename": "",
     "evalue": "",
     "output_type": "error",
     "traceback": [
      "\u001b[1;31mRunning cells with 'c:\\Users\\Sebastian Gonzalez\\AppData\\Local\\Microsoft\\WindowsApps\\python3.11.exe' requires the ipykernel package.\n",
      "\u001b[1;31mRun the following command to install 'ipykernel' into the Python environment. \n",
      "\u001b[1;31mCommand: '\"c:/Users/Sebastian Gonzalez/AppData/Local/Microsoft/WindowsApps/python3.11.exe\" -m pip install ipykernel -U --user --force-reinstall'"
     ]
    }
   ],
   "source": [
    "modelo.compile(optimizer = \"adam\", loss = \"sparse_categorical_crossentropy\", metrics=['accuracy'])"
   ]
  },
  {
   "cell_type": "code",
   "execution_count": null,
   "id": "dbafe344",
   "metadata": {
    "scrolled": true
   },
   "outputs": [
    {
     "ename": "",
     "evalue": "",
     "output_type": "error",
     "traceback": [
      "\u001b[1;31mRunning cells with 'c:\\Users\\Sebastian Gonzalez\\AppData\\Local\\Microsoft\\WindowsApps\\python3.11.exe' requires the ipykernel package.\n",
      "\u001b[1;31mRun the following command to install 'ipykernel' into the Python environment. \n",
      "\u001b[1;31mCommand: '\"c:/Users/Sebastian Gonzalez/AppData/Local/Microsoft/WindowsApps/python3.11.exe\" -m pip install ipykernel -U --user --force-reinstall'"
     ]
    }
   ],
   "source": [
    "historial = modelo.fit(xtrain,\n",
    "                       ytrain,\n",
    "                       batch_size=128,\n",
    "                       verbose=1,\n",
    "                       validation_data=(xtest,ytest),\n",
    "                       epochs=20) "
   ]
  },
  {
   "cell_type": "code",
   "execution_count": null,
   "id": "49fdefcb",
   "metadata": {},
   "outputs": [
    {
     "ename": "",
     "evalue": "",
     "output_type": "error",
     "traceback": [
      "\u001b[1;31mRunning cells with 'c:\\Users\\Sebastian Gonzalez\\AppData\\Local\\Microsoft\\WindowsApps\\python3.11.exe' requires the ipykernel package.\n",
      "\u001b[1;31mRun the following command to install 'ipykernel' into the Python environment. \n",
      "\u001b[1;31mCommand: '\"c:/Users/Sebastian Gonzalez/AppData/Local/Microsoft/WindowsApps/python3.11.exe\" -m pip install ipykernel -U --user --force-reinstall'"
     ]
    }
   ],
   "source": [
    "y_pred = modelo.predict(xtest)\n",
    "\n",
    "print(\"Predicción: {}\".format(y_pred.shape))"
   ]
  },
  {
   "cell_type": "code",
   "execution_count": null,
   "id": "0d221824",
   "metadata": {},
   "outputs": [
    {
     "ename": "",
     "evalue": "",
     "output_type": "error",
     "traceback": [
      "\u001b[1;31mRunning cells with 'c:\\Users\\Sebastian Gonzalez\\AppData\\Local\\Microsoft\\WindowsApps\\python3.11.exe' requires the ipykernel package.\n",
      "\u001b[1;31mRun the following command to install 'ipykernel' into the Python environment. \n",
      "\u001b[1;31mCommand: '\"c:/Users/Sebastian Gonzalez/AppData/Local/Microsoft/WindowsApps/python3.11.exe\" -m pip install ipykernel -U --user --force-reinstall'"
     ]
    }
   ],
   "source": [
    "plt.plot(historial.history['accuracy'])\n",
    "plt.plot(historial.history['val_accuracy'])\n",
    "plt.xlabel(\"Epochs\")\n",
    "plt.ylabel(\"Accuracy\")\n",
    "plt.legend(['train', 'test'], loc = 'lower right')\n",
    "plt.tight_layout()"
   ]
  },
  {
   "cell_type": "markdown",
   "id": "58566ce3",
   "metadata": {},
   "source": [
    "### Guardar el modelo "
   ]
  },
  {
   "cell_type": "code",
   "execution_count": null,
   "id": "b6a71bad",
   "metadata": {},
   "outputs": [
    {
     "ename": "",
     "evalue": "",
     "output_type": "error",
     "traceback": [
      "\u001b[1;31mRunning cells with 'c:\\Users\\Sebastian Gonzalez\\AppData\\Local\\Microsoft\\WindowsApps\\python3.11.exe' requires the ipykernel package.\n",
      "\u001b[1;31mRun the following command to install 'ipykernel' into the Python environment. \n",
      "\u001b[1;31mCommand: '\"c:/Users/Sebastian Gonzalez/AppData/Local/Microsoft/WindowsApps/python3.11.exe\" -m pip install ipykernel -U --user --force-reinstall'"
     ]
    }
   ],
   "source": [
    "modelo.save('vgg19_leukemia_detection.h5')\n",
    "print(\"Modelo guardado...\")"
   ]
  },
  {
   "cell_type": "markdown",
   "id": "1103ee00",
   "metadata": {},
   "source": [
    "### Sección de clasificacion de imagenes "
   ]
  },
  {
   "cell_type": "code",
   "execution_count": null,
   "id": "fae9eb4b",
   "metadata": {},
   "outputs": [
    {
     "ename": "",
     "evalue": "",
     "output_type": "error",
     "traceback": [
      "\u001b[1;31mRunning cells with 'c:\\Users\\Sebastian Gonzalez\\AppData\\Local\\Microsoft\\WindowsApps\\python3.11.exe' requires the ipykernel package.\n",
      "\u001b[1;31mRun the following command to install 'ipykernel' into the Python environment. \n",
      "\u001b[1;31mCommand: '\"c:/Users/Sebastian Gonzalez/AppData/Local/Microsoft/WindowsApps/python3.11.exe\" -m pip install ipykernel -U --user --force-reinstall'"
     ]
    }
   ],
   "source": [
    "# Cargar el modelo entrenado desde el archivo .h5\n",
    "modelo_cargado = tf.keras.models.load_model('vgg19_leukemia_detection.h5')  # Reemplaza con la ruta correcta\n",
    "\n",
    "# Tamaño de entrada esperado por el modelo\n",
    "input_size = (224, 224)\n",
    "\n",
    "def cargar_y_preprocesar_imagen(ruta_imagen):\n",
    "    # Cargar la imagen\n",
    "    img = image.load_img(ruta_imagen, target_size=input_size)\n",
    "    img_array = image.img_to_array(img)\n",
    "\n",
    "    # Agregar una dimensión para el lote (batch)\n",
    "    img_array = np.expand_dims(img_array, axis=0)\n",
    "\n",
    "    # Preprocesar la imagen\n",
    "    img_array = tf.keras.applications.vgg19.preprocess_input(img_array)\n",
    "\n",
    "    return img_array\n",
    "\n",
    "def clasificar_imagen(ruta_imagen):\n",
    "    # Cargar y preprocesar la imagen\n",
    "    img_array = cargar_y_preprocesar_imagen(ruta_imagen)\n",
    "\n",
    "    # Realizar la predicción\n",
    "    prediction = modelo_cargado.predict(img_array)\n",
    "\n",
    "    # Obtener la clase predicha (0 si es Benign, 1 si es Early, 2 si es Pre, 3 si es Pro)\n",
    "    predicted_class = np.argmax(prediction)\n",
    "\n",
    "    # Mapear la clase predicha a una etiqueta de texto utilizando el diccionario code\n",
    "    code = {0: \"Benign\", 1: \"Early\", 2: \"Pre\", 3: \"Pro\"}\n",
    "    predicted_class_name = code[predicted_class]\n",
    "\n",
    "    return predicted_class_name\n",
    "\n",
    "# Ejemplo de clasificación de una imagen individual\n",
    "imagen_prueba = './all1.bmp'  # Reemplaza con la ruta real de tu imagen\n",
    "resultado = clasificar_imagen(imagen_prueba)\n",
    "print(f'La imagen se clasifica como: {resultado}')"
   ]
  },
  {
   "cell_type": "code",
   "execution_count": null,
   "id": "2b3b8b8d",
   "metadata": {},
   "outputs": [
    {
     "ename": "",
     "evalue": "",
     "output_type": "error",
     "traceback": [
      "\u001b[1;31mRunning cells with 'c:\\Users\\Sebastian Gonzalez\\AppData\\Local\\Microsoft\\WindowsApps\\python3.11.exe' requires the ipykernel package.\n",
      "\u001b[1;31mRun the following command to install 'ipykernel' into the Python environment. \n",
      "\u001b[1;31mCommand: '\"c:/Users/Sebastian Gonzalez/AppData/Local/Microsoft/WindowsApps/python3.11.exe\" -m pip install ipykernel -U --user --force-reinstall'"
     ]
    }
   ],
   "source": [
    "grid_svm = {\n",
    "    'C': [0.1, 1, 10, 100, 1000],\n",
    "    'gamma':[1, 0.1, 0.01, 0.001, 0.0001 ],\n",
    "    'kernel': ['rbf', 'poly']\n",
    "}\n",
    "\n",
    "SVM_grid = GridSearchCV(svm.SVC(), grid_svm, cv=5)\n",
    "SVM_grid.fit(xtrain, ytrain)"
   ]
  },
  {
   "cell_type": "code",
   "execution_count": null,
   "id": "6b1fcea5",
   "metadata": {},
   "outputs": [
    {
     "ename": "",
     "evalue": "",
     "output_type": "error",
     "traceback": [
      "\u001b[1;31mRunning cells with 'c:\\Users\\Sebastian Gonzalez\\AppData\\Local\\Microsoft\\WindowsApps\\python3.11.exe' requires the ipykernel package.\n",
      "\u001b[1;31mRun the following command to install 'ipykernel' into the Python environment. \n",
      "\u001b[1;31mCommand: '\"c:/Users/Sebastian Gonzalez/AppData/Local/Microsoft/WindowsApps/python3.11.exe\" -m pip install ipykernel -U --user --force-reinstall'"
     ]
    }
   ],
   "source": []
  }
 ],
 "metadata": {
  "kernelspec": {
   "display_name": "Python 3 (ipykernel)",
   "language": "python",
   "name": "python3"
  },
  "language_info": {
   "codemirror_mode": {
    "name": "ipython",
    "version": 3
   },
   "file_extension": ".py",
   "mimetype": "text/x-python",
   "name": "python",
   "nbconvert_exporter": "python",
   "pygments_lexer": "ipython3",
   "version": "3.11.6"
  }
 },
 "nbformat": 4,
 "nbformat_minor": 5
}
